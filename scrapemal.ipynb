{
 "cells": [
  {
   "cell_type": "code",
   "execution_count": 31,
   "metadata": {},
   "outputs": [],
   "source": [
    "import requests\n",
    "from bs4 import BeautifulSoup\n",
    "import pandas as pd\n",
    "import csv\n",
    "import numpy as np\n",
    "import re\n",
    "import nltk\n",
    "from nltk.corpus import stopwords\n",
    "\n"
   ]
  },
  {
   "cell_type": "code",
   "execution_count": 2,
   "metadata": {},
   "outputs": [],
   "source": [
    "def get_reviews(soup):\n",
    "    get_reviews = soup.find_all('div', 'text')\n",
    "    return get_reviews\n",
    "\n",
    "\n",
    "def get_all_reviews(url):\n",
    "    reviews = []\n",
    "    user_agent = {'User-agent': 'Mozilla/5.0'}\n",
    "    session_object = requests.Session()\n",
    "    page = session_object.get(url, headers=user_agent)\n",
    "    soup = BeautifulSoup(page.text, 'html.parser')\n",
    "    reviews.extend(get_reviews(soup))\n",
    "    nextpage = soup.find_all(attrs={\"data-ga-click-type\": \"review-more-reviews\"})\n",
    "    while(nextpage):\n",
    "        page = session_object.get(nextpage[0]['href'], headers=user_agent)\n",
    "        soup = BeautifulSoup(page.text, 'html.parser')\n",
    "        reviews.extend(get_reviews(soup))\n",
    "        nextpage = soup.find_all(attrs={\"data-ga-click-type\": \"review-more-reviews\"})\n",
    "    return reviews\n"
   ]
  },
  {
   "cell_type": "code",
   "execution_count": 53,
   "metadata": {},
   "outputs": [
    {
     "data": {
      "text/plain": [
       "<div class=\"text\">\n",
       "                This anime is nothing but fan service. Denji is perhaps one of the biggest simp characters in all of anime. Every episode of this show is nothing but fan service mixed with Denji being a simp. The devil theme is also uninspiring since anything can become a devil based on societies fear. It's honestly boring and the characters, especially the female characters, are just your typical fan service characters all offering Denji their femininity in exchange for him killing devils. The only redeeming factor in this show for me is the animation. The animation is great, but without a good plot it's meaningless. If you\n",
       "                  <span class=\"js-visible\" style=\"margin-left: -4px;\">...</span>\n",
       "<span class=\"js-hidden\" style=\"display: none;\">like ecchi or harem anime then you'll enjoy this one. This anime has a specific audience and it's definitely not for me or people with self-respect.</span>\n",
       "</div>"
      ]
     },
     "execution_count": 53,
     "metadata": {},
     "output_type": "execute_result"
    }
   ],
   "source": [
    "# url = 'https://myanimelist.net/anime/44511/Chainsaw_Man/reviews'\n",
    "# reviews = get_all_reviews(url)\n",
    "reviews[9]\n"
   ]
  },
  {
   "cell_type": "code",
   "execution_count": 33,
   "metadata": {},
   "outputs": [
    {
     "name": "stderr",
     "output_type": "stream",
     "text": [
      "[nltk_data] Downloading package stopwords to\n",
      "[nltk_data]     C:\\Users\\muher\\AppData\\Roaming\\nltk_data...\n",
      "[nltk_data]   Package stopwords is already up-to-date!\n"
     ]
    },
    {
     "data": {
      "text/plain": [
       "True"
      ]
     },
     "execution_count": 33,
     "metadata": {},
     "output_type": "execute_result"
    }
   ],
   "source": [
    "nltk.download(\"stopwords\")"
   ]
  },
  {
   "cell_type": "code",
   "execution_count": 34,
   "metadata": {},
   "outputs": [],
   "source": [
    "def review_to_words(raw_review):\n",
    "    review_text = BeautifulSoup(raw_review, 'html.parser').get_text()\n",
    "    letters_only = re.sub(\"[^a-zA-Z]\", \" \", review_text)\n",
    "    words = letters_only.lower().split()\n",
    "    stops = set(stopwords.words(\"english\"))\n",
    "    meaningful_words = [w for w in words if not w in stops]\n",
    "    return \" \".join(meaningful_words)"
   ]
  },
  {
   "cell_type": "code",
   "execution_count": 12,
   "metadata": {},
   "outputs": [],
   "source": [
    "import pickle\n",
    "\n",
    "model = pickle.load(open('model.sav', 'rb'))\n",
    "tfidf = pickle.load(open('tfidf.sav', 'rb'))"
   ]
  },
  {
   "cell_type": "code",
   "execution_count": 55,
   "metadata": {},
   "outputs": [],
   "source": [
    "input = [review_to_words(reviews[9].text)]"
   ]
  },
  {
   "cell_type": "code",
   "execution_count": 56,
   "metadata": {},
   "outputs": [
    {
     "data": {
      "text/plain": [
       "0"
      ]
     },
     "execution_count": 56,
     "metadata": {},
     "output_type": "execute_result"
    }
   ],
   "source": [
    "test_input = tfidf.transform(input)\n",
    "model.predict(test_input)[0]"
   ]
  },
  {
   "cell_type": "code",
   "execution_count": 4,
   "metadata": {},
   "outputs": [
    {
     "data": {
      "text/plain": [
       "84"
      ]
     },
     "execution_count": 4,
     "metadata": {},
     "output_type": "execute_result"
    }
   ],
   "source": [
    "len(reviews)"
   ]
  }
 ],
 "metadata": {
  "kernelspec": {
   "display_name": "venv",
   "language": "python",
   "name": "python3"
  },
  "language_info": {
   "codemirror_mode": {
    "name": "ipython",
    "version": 3
   },
   "file_extension": ".py",
   "mimetype": "text/x-python",
   "name": "python",
   "nbconvert_exporter": "python",
   "pygments_lexer": "ipython3",
   "version": "3.10.8 (tags/v3.10.8:aaaf517, Oct 11 2022, 16:50:30) [MSC v.1933 64 bit (AMD64)]"
  },
  "orig_nbformat": 4,
  "vscode": {
   "interpreter": {
    "hash": "5168849e5e28204b48d8b8305a367d9488bbfd91b65bb76f719eb762f886ffed"
   }
  }
 },
 "nbformat": 4,
 "nbformat_minor": 2
}
