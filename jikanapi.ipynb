{
 "cells": [
  {
   "cell_type": "code",
   "execution_count": 12,
   "metadata": {},
   "outputs": [],
   "source": [
    "import requests\n",
    "import json"
   ]
  },
  {
   "cell_type": "code",
   "execution_count": 22,
   "metadata": {},
   "outputs": [],
   "source": [
    "\n",
    "url = \"https://api.jikan.moe/v4/anime\"\n",
    "\n",
    "querystring = {\"q\":\"chainsaw man\", \"limit\": 10}\n",
    "\n",
    "headers = {\n",
    "\t\"X-RapidAPI-Key\": \"ef33758c26msh90b77f1145da547p18115fjsnb013a57e8018\",\n",
    "\t\"X-RapidAPI-Host\": \"jikan1.p.rapidapi.com\"\n",
    "}\n",
    "\n",
    "response = requests.request(\"GET\", url, params=querystring)\n",
    "result = json.loads(response.text)['data']\n"
   ]
  },
  {
   "cell_type": "code",
   "execution_count": 38,
   "metadata": {},
   "outputs": [
    {
     "name": "stdout",
     "output_type": "stream",
     "text": [
      "Chainsaw Man\n",
      "https://cdn.myanimelist.net/images/anime/1806/126216l.jpg\n",
      "TV\n",
      "Oct 12, 2022 to ?\n",
      "Denji is robbed of a normal teenage life, left with nothing but his deadbeat father's overwhelming debt. His only companion is his pet, the chainsaw devil Pochita, with whom he slays devils for money that inevitably ends up in the yakuza's pockets. All Denji can do is dream of a good, simple life: one with delicious food and a beautiful girlfriend by his side. But an act of greedy betrayal by the yakuza leads to Denji's brutal, untimely death, crushing all hope of him ever achieving happiness.\n",
      "\n",
      "Remarkably, an old contract allows Pochita to merge with the deceased Denji and bestow devil powers on him, changing him into a hybrid able to transform his body parts into chainsaws. Because Denji's new abilities pose a significant risk to society, the Public Safety Bureau's elite devil hunter Makima takes him in, letting him live as long as he obeys her command. Guided by the promise of a content life alongside an attractive woman, Denji devotes everything and fights with all his might to make his naive dreams a reality.\n",
      "\n",
      "[Written by MAL Rewrite]\n",
      "https://myanimelist.net/anime/44511/Chainsaw_Man\n"
     ]
    }
   ],
   "source": [
    "print(result[0]['title_english'])\n",
    "print(result[0]['images']['jpg']['large_image_url'])\n",
    "print(result[0]['type'])\n",
    "print(result[0]['aired']['string'])\n",
    "print(result[0]['synopsis'])\n",
    "print(result[0]['url'])\n",
    "\n"
   ]
  },
  {
   "cell_type": "code",
   "execution_count": 25,
   "metadata": {},
   "outputs": [
    {
     "data": {
      "text/plain": [
       "{'mal_id': 44511,\n",
       " 'url': 'https://myanimelist.net/anime/44511/Chainsaw_Man',\n",
       " 'images': {'jpg': {'image_url': 'https://cdn.myanimelist.net/images/anime/1806/126216.jpg',\n",
       "   'small_image_url': 'https://cdn.myanimelist.net/images/anime/1806/126216t.jpg',\n",
       "   'large_image_url': 'https://cdn.myanimelist.net/images/anime/1806/126216l.jpg'},\n",
       "  'webp': {'image_url': 'https://cdn.myanimelist.net/images/anime/1806/126216.webp',\n",
       "   'small_image_url': 'https://cdn.myanimelist.net/images/anime/1806/126216t.webp',\n",
       "   'large_image_url': 'https://cdn.myanimelist.net/images/anime/1806/126216l.webp'}},\n",
       " 'trailer': {'youtube_id': 'q15CRdE5Bv0',\n",
       "  'url': 'https://www.youtube.com/watch?v=q15CRdE5Bv0',\n",
       "  'embed_url': 'https://www.youtube.com/embed/q15CRdE5Bv0?enablejsapi=1&wmode=opaque&autoplay=1',\n",
       "  'images': {'image_url': 'https://img.youtube.com/vi/q15CRdE5Bv0/default.jpg',\n",
       "   'small_image_url': 'https://img.youtube.com/vi/q15CRdE5Bv0/sddefault.jpg',\n",
       "   'medium_image_url': 'https://img.youtube.com/vi/q15CRdE5Bv0/mqdefault.jpg',\n",
       "   'large_image_url': 'https://img.youtube.com/vi/q15CRdE5Bv0/hqdefault.jpg',\n",
       "   'maximum_image_url': 'https://img.youtube.com/vi/q15CRdE5Bv0/maxresdefault.jpg'}},\n",
       " 'approved': True,\n",
       " 'titles': [{'type': 'Default', 'title': 'Chainsaw Man'},\n",
       "  {'type': 'Japanese', 'title': 'チェンソーマン'},\n",
       "  {'type': 'English', 'title': 'Chainsaw Man'}],\n",
       " 'title': 'Chainsaw Man',\n",
       " 'title_english': 'Chainsaw Man',\n",
       " 'title_japanese': 'チェンソーマン',\n",
       " 'title_synonyms': [],\n",
       " 'type': 'TV',\n",
       " 'source': 'Manga',\n",
       " 'episodes': 12,\n",
       " 'status': 'Currently Airing',\n",
       " 'airing': True,\n",
       " 'aired': {'from': '2022-10-12T00:00:00+00:00',\n",
       "  'to': None,\n",
       "  'prop': {'from': {'day': 12, 'month': 10, 'year': 2022},\n",
       "   'to': {'day': None, 'month': None, 'year': None}},\n",
       "  'string': 'Oct 12, 2022 to ?'},\n",
       " 'duration': '24 min per ep',\n",
       " 'rating': 'R - 17+ (violence & profanity)',\n",
       " 'score': 8.83,\n",
       " 'scored_by': 180304,\n",
       " 'rank': 26,\n",
       " 'popularity': 160,\n",
       " 'members': 875670,\n",
       " 'favorites': 28014,\n",
       " 'synopsis': \"Denji is robbed of a normal teenage life, left with nothing but his deadbeat father's overwhelming debt. His only companion is his pet, the chainsaw devil Pochita, with whom he slays devils for money that inevitably ends up in the yakuza's pockets. All Denji can do is dream of a good, simple life: one with delicious food and a beautiful girlfriend by his side. But an act of greedy betrayal by the yakuza leads to Denji's brutal, untimely death, crushing all hope of him ever achieving happiness.\\n\\nRemarkably, an old contract allows Pochita to merge with the deceased Denji and bestow devil powers on him, changing him into a hybrid able to transform his body parts into chainsaws. Because Denji's new abilities pose a significant risk to society, the Public Safety Bureau's elite devil hunter Makima takes him in, letting him live as long as he obeys her command. Guided by the promise of a content life alongside an attractive woman, Denji devotes everything and fights with all his might to make his naive dreams a reality.\\n\\n[Written by MAL Rewrite]\",\n",
       " 'background': 'Chainsaw Man was released in four volumes on Blu-ray and DVD from January 27, 2023 to April 28, 2023.',\n",
       " 'season': 'fall',\n",
       " 'year': 2022,\n",
       " 'broadcast': {'day': 'Wednesdays',\n",
       "  'time': '00:00',\n",
       "  'timezone': 'Asia/Tokyo',\n",
       "  'string': 'Wednesdays at 00:00 (JST)'},\n",
       " 'producers': [],\n",
       " 'licensors': [],\n",
       " 'studios': [{'mal_id': 569,\n",
       "   'type': 'anime',\n",
       "   'name': 'MAPPA',\n",
       "   'url': 'https://myanimelist.net/anime/producer/569/MAPPA'}],\n",
       " 'genres': [{'mal_id': 1,\n",
       "   'type': 'anime',\n",
       "   'name': 'Action',\n",
       "   'url': 'https://myanimelist.net/anime/genre/1/Action'},\n",
       "  {'mal_id': 10,\n",
       "   'type': 'anime',\n",
       "   'name': 'Fantasy',\n",
       "   'url': 'https://myanimelist.net/anime/genre/10/Fantasy'}],\n",
       " 'explicit_genres': [],\n",
       " 'themes': [{'mal_id': 58,\n",
       "   'type': 'anime',\n",
       "   'name': 'Gore',\n",
       "   'url': 'https://myanimelist.net/anime/genre/58/Gore'}],\n",
       " 'demographics': [{'mal_id': 27,\n",
       "   'type': 'anime',\n",
       "   'name': 'Shounen',\n",
       "   'url': 'https://myanimelist.net/anime/genre/27/Shounen'}]}"
      ]
     },
     "execution_count": 25,
     "metadata": {},
     "output_type": "execute_result"
    }
   ],
   "source": [
    "result[0]\n"
   ]
  }
 ],
 "metadata": {
  "kernelspec": {
   "display_name": "venv",
   "language": "python",
   "name": "python3"
  },
  "language_info": {
   "codemirror_mode": {
    "name": "ipython",
    "version": 3
   },
   "file_extension": ".py",
   "mimetype": "text/x-python",
   "name": "python",
   "nbconvert_exporter": "python",
   "pygments_lexer": "ipython3",
   "version": "3.10.8"
  },
  "orig_nbformat": 4,
  "vscode": {
   "interpreter": {
    "hash": "5168849e5e28204b48d8b8305a367d9488bbfd91b65bb76f719eb762f886ffed"
   }
  }
 },
 "nbformat": 4,
 "nbformat_minor": 2
}
